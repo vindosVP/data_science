{
 "cells": [
  {
   "cell_type": "code",
   "execution_count": 1,
   "metadata": {},
   "outputs": [],
   "source": [
    "import os \n",
    "import findspark\n",
    "import pandas as pd\n",
    "from pyspark.sql import SparkSession\n",
    "os.environ['PYSPARK_SUBMIT_ARGS'] = \"--packages org.apache.spark:spark-sql-kafka-0-10_2.12:3.3.1 pyspark-shell\"\n"
   ]
  },
  {
   "cell_type": "code",
   "execution_count": 2,
   "metadata": {},
   "outputs": [
    {
     "data": {
      "text/plain": [
       "'C:\\\\Users\\\\Asus\\\\AppData\\\\Local\\\\Packages\\\\PythonSoftwareFoundation.Python.3.8_qbz5n2kfra8p0\\\\LocalCache\\\\local-packages\\\\Python38\\\\site-packages\\\\pyspark'"
      ]
     },
     "execution_count": 2,
     "metadata": {},
     "output_type": "execute_result"
    }
   ],
   "source": [
    "findspark.init()\n",
    "findspark.find()"
   ]
  },
  {
   "cell_type": "code",
   "execution_count": 9,
   "metadata": {},
   "outputs": [],
   "source": [
    "spark = SparkSession.builder.master(\"local\").appName(\"kafka-example\").getOrCreate()"
   ]
  },
  {
   "cell_type": "code",
   "execution_count": 10,
   "metadata": {
    "scrolled": true
   },
   "outputs": [
    {
     "name": "stderr",
     "output_type": "stream",
     "text": [
      "\r\n",
      "[Stage 3:>                                                          (0 + 1) / 1]\r"
     ]
    },
    {
     "name": "stdout",
     "output_type": "stream",
     "text": [
      "+----+-----------------+-----+---------+------+--------------------+-------------+\n",
      "| key|            value|topic|partition|offset|           timestamp|timestampType|\n",
      "+----+-----------------+-----+---------+------+--------------------+-------------+\n",
      "|null|{\"test1\": \"text\"}|topic|        0|    11|2022-12-19 23:46:...|            0|\n",
      "|null|    {\"test\": \"1\"}|topic|        0|    13|2022-12-19 23:46:...|            0|\n",
      "|null|     {\"kfk\": \"2\"}|topic|        0|    14|2022-12-19 23:46:...|            0|\n",
	  "|null|      {\"aa\": \"0\"}|topic|        0|    16|2022-12-19 23:46:...|            0|\n",
      "|null|     {\"git\": \"3\"}|topic|        0|    17|2022-12-19 23:46:...|            0|\n",
      "|null|      {\"ds\": \"4\"}|topic|        0|    19|2022-12-19 23:46:...|            0|\n",
	  "|null|      {\"ff\": \"5\"}|topic|        0|    20|2022-12-19 23:46:...|            0|\n",
      "+----+-----------------+-----+---------+------+--------------------+-------------+\n",
      "\n"
     ]
    },
    {
     "name": "stderr",
     "output_type": "stream",
     "text": [
      "\r\n",
      "                                                                                \r"
     ]
    }
   ],
   "source": [
    "parquet = spark.read.parquet('kafka_stream.parquet')\n",
    "parquet.withColumn('value',parquet.value).show()"
   ]
  }
 ],
 "metadata": {
  "kernelspec": {
   "display_name": "Python 3",
   "language": "python",
   "name": "python3"
  },
  "language_info": {
   "codemirror_mode": {
    "name": "ipython",
    "version": 3
   },
   "file_extension": ".py",
   "mimetype": "text/x-python",
   "name": "python",
   "nbconvert_exporter": "python",
   "pygments_lexer": "ipython3",
   "version": "3.8.10 (tags/v3.8.10:3d8993a, May  3 2021, 11:48:03) [MSC v.1928 64 bit (AMD64)]"
  },
  "vscode": {
   "interpreter": {
    "hash": "49dc9f287000ba632bbdaf059f1be695dcb90e80dd7a08661e969a22a12c7018"
   }
  }
 },
 "nbformat": 4,
 "nbformat_minor": 2
}
